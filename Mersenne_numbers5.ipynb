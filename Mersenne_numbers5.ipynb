{
 "cells": [
  {
   "cell_type": "markdown",
   "metadata": {},
   "source": [
    "### Generating Mersenne numbers and Mersenne Primes \n",
    "#### by Anurag Gupta\n",
    "There are 3 concepts (a) Mersenne numbers and (b) Lucas–Lehmer primality test and (c) Mersenne Primes.\n",
    "First lets talk about Mersenne numbers. It can be represented by the equation:-\n",
    "$$ M_{n} = 2^{^{n}} - 1 \n",
    ",\\;\\;  n \\in \\mathbb{N}\n",
    "$$\n",
    "Note that if in above equation in n is prime then M<sub>n</sub> is also prime <br>\n",
    "#### Task:- Write a script which generates first 15 Mersenne numbers \n",
    "( Here we have to generate Mersenne numbers not Mersenne Primes)"
   ]
  },
  {
   "cell_type": "code",
   "execution_count": 3,
   "metadata": {},
   "outputs": [
    {
     "name": "stdout",
     "output_type": "stream",
     "text": [
      "[0, 1, 3, 7, 15, 31, 63, 127, 255, 511, 1023, 2047, 4095, 8191, 16383]\n"
     ]
    }
   ],
   "source": [
    "mersenne_list = []\n",
    "for n in range(15):\n",
    "    m = 2**n - 1\n",
    "    mersenne_list.append(m)\n",
    "print(mersenne_list)\n",
    "    "
   ]
  },
  {
   "cell_type": "markdown",
   "metadata": {},
   "source": [
    "#### Lucas–Lehmer primality test\n",
    "(For an excellent article see:- https://en.wikipedia.org/wiki/Lucas%E2%80%93Lehmer_primality_test ) <br>\n",
    "For those interested the largest Mersenne primes discovered so far, see:- https://www.mersenne.org/primes/\n",
    "\n",
    "First lets describe the series:-\n",
    "$$\n",
    "  s_i=\n",
    "   \\begin{cases}\n",
    "    4 & \\text{if }i=0;\n",
    "   \\\\\n",
    "    s_{i-1}^2-2 & \\text{otherwise.}\n",
    "   \\end{cases}\n",
    "$$\n",
    "\n",
    "Further a Mersenne number is prime if and only if \n",
    "$$\n",
    "s_{p-2} \\equiv 0 \\pmod{M_p}.\n",
    "$$\n",
    "This can be understood by an example. We have\n",
    "M<sub>3</sub> = 2<sup>3</sup>-1 = 7. Further initially s = 4 and is updated 3-2 = 1 times (Because 7 is M<sub>3</sub>). Also we have s = ( 4 x 4)mod7 = 0 so M<sub>3</sub> is prime. <br><br>\n",
    "Let us take M<sub>4</sub> = 2<sup>4</sup>-1 = 15. \n",
    "We have:- <br>\n",
    "for 4-> s = ((4 x 4)-2)mod 15 = 14 <br>\n",
    "for 14-> s = ((14 x 14) -2)mod 15 = 14 <br>\n",
    "So M<sub>4</sub> is not a prime number (Since in 2 iterations s did not become 0).<br>\n",
    "Another example is M<sub>11</sub>&nbsp;=&nbsp;2047&nbsp;=&nbsp;23&nbsp;&times;&nbsp;89 which is not prime. This example is taken from Wikipedia:- <br>\n",
    "<div class=\"alert alert-block alert-success\">\n",
    "(Taken from:- https://en.wikipedia.org/wiki/Lucas%E2%80%93Lehmer_primality_test) <br>\n",
    "On the other hand, M<sub>11</sub>&nbsp;=&nbsp;2047&nbsp;=&nbsp;23&nbsp;&times;&nbsp;89 is not prime. Again, ''s'' is set to 4 but is now updated 11&minus;2&nbsp;=&nbsp;9 times:<br>\n",
    "\n",
    "\n",
    "s ← ((4 &times; 4) &minus; 2) mod 2047 = 14 <br>\n",
    "s ← ((14 &times; 14) &minus; 2) mod 2047 = 194<br>\n",
    "s ← ((194 &times; 194) &minus; 2) mod 2047 = 788<br>\n",
    "s ← ((788 &times; 788) &minus; 2) mod 2047 = 701<br>\n",
    "s ← ((701 &times; 701) &minus; 2) mod 2047 = 119 <br>\n",
    "s ← ((119 &times; 119) &minus; 2) mod 2047 = 1877 <br>\n",
    "s ← ((1877 &times; 1877) &minus; 2) mod 2047 = 240 <br>\n",
    "s ← ((240 &times; 240) &minus; 2) mod 2047 = 282 <br>\n",
    "s ← ((282 &times; 282) &minus; 2) mod 2047 = 1736 <br>\n",
    "\n",
    "Since the final value of ''s'' is not&nbsp;0, the conclusion is that M<sub>11</sub>&nbsp;=&nbsp;2047 is not prime. Although M<sub>11</sub>&nbsp;=&nbsp;2047 has nontrivial factors, the Lucas–Lehmer test gives no indication about what they might be.\n",
    "</div>\n",
    "The algorithm for generating Mersenne primes is as follows:-\n",
    "1. Generate a Mersenne number say M by  M = 2<sup>p</sup> - 1 \n",
    "2. Check the Mersenne number generated using Lucas–Lehmer primality test. The test consists of following steps:-\n",
    "\t1. Start with number 4 and find (4<sup>2</sup> -2)mod M. Suppose you get residue s<sub>1</sub>.\n",
    "\t2. Now take s<sub>1</sub> and do (s<sub>1</sub><sup>2</sup> -2) mod M.\n",
    "\t3. Keep on repeating step 2 until either you get a 0 or else for p=2 iterations where p is the number of the Mersenne number ie the power to which s was raised in step 1.\n",
    "\t4. If you get a 0 before p-2 iterations, then the Mersenne number M = 2<sup>p</sup> - 1 is a prime number. But if you dont get a 0 in p-2 iterations, then M = 2<sup>p</sup> - 1 is not a prime number.\n",
    "    \n",
    "#### Task:- Write a script which generates Mersenne primes."
   ]
  },
  {
   "cell_type": "code",
   "execution_count": 4,
   "metadata": {},
   "outputs": [
    {
     "name": "stdout",
     "output_type": "stream",
     "text": [
      "n =  3 -> m = 7\n",
      "n =  5 -> m = 31\n",
      "n =  7 -> m = 127\n",
      "n =  13 -> m = 8191\n",
      "n =  17 -> m = 131071\n",
      "n =  19 -> m = 524287\n",
      "n =  31 -> m = 2147483647\n",
      "n =  61 -> m = 2305843009213693951\n",
      "n =  89 -> m = 618970019642690137449562111\n",
      "n =  107 -> m = 162259276829213363391578010288127\n",
      "n =  127 -> m = 170141183460469231731687303715884105727\n"
     ]
    }
   ],
   "source": [
    "# Lucas–Lehmer primality test\n",
    "def luc_lehmar(p):\n",
    "    # Start from 4\n",
    "    s = 4\n",
    "    m = 2**p - 1\n",
    "    for x in range(p - 2):\n",
    "        #Find (s*s-2) mod m\n",
    "        s = ((s * s) - 2) % m\n",
    "    return s == 0\n",
    "\n",
    "def isPrime(aNumb):\n",
    "    # Case aNumb is 0\n",
    "    if aNumb % 2 == 0:\n",
    "        return aNumb == 2\n",
    "\n",
    "    top = int(aNumb**0.5)\n",
    "    for x in range(3, top, 2):\n",
    "        if aNumb % 2 == 0:\n",
    "            return False\n",
    "    return True\n",
    "#\n",
    "for i in range(3, 500, 2):  # generate up to M20, found in 1961\n",
    "    if isPrime(i) and luc_lehmar(i):\n",
    "        print('n = ', i, '-> m =', 2 ** i - 1)"
   ]
  }
 ],
 "metadata": {
  "kernelspec": {
   "display_name": "Python 3",
   "language": "python",
   "name": "python3"
  },
  "language_info": {
   "codemirror_mode": {
    "name": "ipython",
    "version": 3
   },
   "file_extension": ".py",
   "mimetype": "text/x-python",
   "name": "python",
   "nbconvert_exporter": "python",
   "pygments_lexer": "ipython3",
   "version": "3.6.3"
  }
 },
 "nbformat": 4,
 "nbformat_minor": 2
}
